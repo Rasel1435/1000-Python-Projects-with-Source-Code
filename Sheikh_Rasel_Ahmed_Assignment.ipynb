{
  "nbformat": 4,
  "nbformat_minor": 0,
  "metadata": {
    "colab": {
      "provenance": [],
      "gpuType": "T4",
      "toc_visible": true,
      "authorship_tag": "ABX9TyOHMt36VsYvq5qaMMKVuquJ",
      "include_colab_link": true
    },
    "kernelspec": {
      "name": "python3",
      "display_name": "Python 3"
    },
    "language_info": {
      "name": "python"
    },
    "accelerator": "GPU"
  },
  "cells": [
    {
      "cell_type": "markdown",
      "metadata": {
        "id": "view-in-github",
        "colab_type": "text"
      },
      "source": [
        "<a href=\"https://colab.research.google.com/github/Rasel1435/500-Plus-Python-Projects-with-Source-Code/blob/main/Sheikh_Rasel_Ahmed_Assignment.ipynb\" target=\"_parent\"><img src=\"https://colab.research.google.com/assets/colab-badge.svg\" alt=\"Open In Colab\"/></a>"
      ]
    },
    {
      "cell_type": "markdown",
      "source": [
        "# **Assignment: 01**"
      ],
      "metadata": {
        "id": "34CDYgPT7DpB"
      }
    },
    {
      "cell_type": "markdown",
      "source": [
        "Last Date: 28-02-2024\n",
        "Please solve these problems and share the notebook with me.\n",
        "\n",
        "1. Write a Python program to print the following string in a specific format (see the output).\n",
        "\n",
        "Sample String : \"Twinkle, twinkle, little star, How I wonder what you are! Up above the world so high, Like a diamond in the sky.\n",
        "Twinkle, twinkle, little star, How I wonder what you are\"\n",
        "\n",
        "Output :\n",
        "\n",
        "Twinkle, twinkle, little star, </br>\n",
        "\tHow I wonder what you are! </br>\n",
        "\t\tUp above the world so high,</br>\n",
        "\t\tLike a diamond in the sky. </br>\n",
        "Twinkle, twinkle, little star, </br>\n",
        "\tHow I wonder what you are </br>\n",
        "\n",
        "2. Python Program to Add, Subtract, Multiply and Divide two numbers.\n",
        "\n",
        "3. Check if the first and last number of a list is the same.</br>\n",
        "Input: [5,6,7,8,5]\n",
        "Output: True</br>\n",
        "Input: [5,6,7,8,9]\n",
        "Output: False"
      ],
      "metadata": {
        "id": "M-I3Xo1a7VvA"
      }
    },
    {
      "cell_type": "code",
      "source": [
        "# 1. Write a Python program to print the following string in a specific format (see the output).\n",
        "print( \"Twinkle, twinkle, little star,\\n \\t How I wonder what you are! \\n\\t\\t Up above the world so high,\\n\\t\\t Like a diamond in the sky.\\nTwinkle, twinkle, little star,\\n\\t How I wonder what you are\")"
      ],
      "metadata": {
        "colab": {
          "base_uri": "https://localhost:8080/"
        },
        "id": "jlZiEyrf7KBj",
        "outputId": "26c4ed98-377b-488c-cc43-075a7910b985"
      },
      "execution_count": null,
      "outputs": [
        {
          "output_type": "stream",
          "name": "stdout",
          "text": [
            "Twinkle, twinkle, little star,\n",
            " \t How I wonder what you are! \n",
            "\t\t Up above the world so high,\n",
            "\t\t Like a diamond in the sky.\n",
            "Twinkle, twinkle, little star,\n",
            "\t How I wonder what you are\n"
          ]
        }
      ]
    },
    {
      "cell_type": "code",
      "source": [
        "# 2. Python Program to Add, Subtract, Multiply and Divide two numbers.\n",
        "a = 10\n",
        "b = 20\n",
        "print(a+b)\n",
        "print(a-b)\n",
        "print(a*b)\n",
        "print(a/b)"
      ],
      "metadata": {
        "colab": {
          "base_uri": "https://localhost:8080/"
        },
        "id": "6FogfBRzOYpg",
        "outputId": "b5f77b72-393c-4eb4-bc5a-d456e969cd34"
      },
      "execution_count": null,
      "outputs": [
        {
          "output_type": "stream",
          "name": "stdout",
          "text": [
            "30\n",
            "-10\n",
            "200\n",
            "0.5\n"
          ]
        }
      ]
    },
    {
      "cell_type": "code",
      "source": [
        "#OOP way we can do it updated 22/03/24\n",
        "class Calculate:\n",
        "    def __init__(self, num1, num2):\n",
        "        self.num1 = num1\n",
        "        self.num2 = num2\n",
        "\n",
        "    def add(self):\n",
        "        return self.num1 + self.num2\n",
        "\n",
        "    def multiply(self):\n",
        "        return self.num1 * self.num2\n",
        "\n",
        "    def divide(self):\n",
        "        if self.num2 != 0:\n",
        "            return self.num1 / self.num2\n",
        "        else:\n",
        "            return \"Cannot divide by zero!\"\n",
        "\n",
        "    def subtract(self):\n",
        "        return self.num1 - self.num2\n",
        "\n",
        "#call the class here\n",
        "calculator = Calculate(10, 30)\n",
        "\n",
        "# Calculate addition\n",
        "result_add = calculator.add()\n",
        "print(f\"Addition result: {result_add}\")\n",
        "\n",
        "# Calculate multiplication\n",
        "result_mul = calculator.multiply()\n",
        "print(f\"Multiplication result: {result_mul}\")\n",
        "\n",
        "# Calculate division\n",
        "result_div = calculator.divide()\n",
        "print(f\"Division result: {result_div}\")\n",
        "\n",
        "# Calculate subtraction\n",
        "result_sub = calculator.subtract()\n",
        "print(f\"Subtraction result: {result_sub}\")"
      ],
      "metadata": {
        "colab": {
          "base_uri": "https://localhost:8080/"
        },
        "id": "67c8eeUvPg4W",
        "outputId": "9bc6dd2d-83ac-4564-df5c-004991628a75"
      },
      "execution_count": null,
      "outputs": [
        {
          "output_type": "stream",
          "name": "stdout",
          "text": [
            "Addition result: 40\n",
            "Multiplication result: 300\n",
            "Division result: 0.3333333333333333\n",
            "Subtraction result: -20\n"
          ]
        }
      ]
    },
    {
      "cell_type": "code",
      "source": [
        "# Check if the first and last number of a list is the same.\n",
        "# Input: [5,6,7,8,5] Output: True\n",
        "# Input: [5,6,7,8,9] Output: False\n",
        "\n",
        "a = [5,6,7,8,5]\n",
        "b = [5,6,7,8,9]\n",
        "\n",
        "print(f\"List a: {a[0] == a[-1]}\")\n",
        "print(f\"List b: {b[0] == b[-1]}\")"
      ],
      "metadata": {
        "colab": {
          "base_uri": "https://localhost:8080/"
        },
        "id": "9RrwrVk7QzEd",
        "outputId": "2bc2d31d-bbf3-44da-de36-797070d587e6"
      },
      "execution_count": null,
      "outputs": [
        {
          "output_type": "stream",
          "name": "stdout",
          "text": [
            "List a: True\n",
            "List b: False\n"
          ]
        }
      ]
    },
    {
      "cell_type": "markdown",
      "source": [
        "# Assignment: 02\n",
        "Last Date: 06-03-2024</br>\n",
        "Please solve these problems and share the notebook with me.\n",
        "\n",
        "1. Write a Python program Return multiple values from a function</br>\n",
        "Input: 100 50</br>\n",
        "Output: </br>\n",
        "Addition: 150</br>\n",
        "subtraction: 50\n",
        "\n",
        "2. Generate a Python list of all the even numbers between 2 to 20</br>\n",
        "Output: 2,4,6,8,10,12,14,16,18,20\n",
        "\n",
        "3. Find the largest item from the given three numbers using a function.\n",
        "\n",
        "Input: 40,37,53</br>\n",
        "Output: 53\n"
      ],
      "metadata": {
        "id": "h8aZHhtWy-Hg"
      }
    },
    {
      "cell_type": "code",
      "source": [
        "# Write a Python program Return multiple values from a function\n",
        "# Input: 100 50\n",
        "# Output:\n",
        "# Addition: 150\n",
        "# subtraction: 50"
      ],
      "metadata": {
        "id": "aGcRspBV7KdD"
      },
      "execution_count": null,
      "outputs": []
    },
    {
      "cell_type": "code",
      "source": [
        "# Normal way or static way we can solve it like this\n",
        "def perform_operations(a, b):\n",
        "    addition = a + b\n",
        "    subtraction = a - b\n",
        "    return addition, subtraction\n",
        "\n",
        "# Taking input from the user\n",
        "num1, num2 = map(int, input(\"Enter two numbers separated by space: \").split())\n",
        "\n",
        "# Calling the function\n",
        "add, sub = perform_operations(num1, num2)\n",
        "\n",
        "# Printing the results\n",
        "print(\"Addition:\", add)\n",
        "print(\"Subtraction:\", sub)"
      ],
      "metadata": {
        "id": "d68sJE5PSlDM",
        "colab": {
          "base_uri": "https://localhost:8080/"
        },
        "outputId": "0f0344c0-88dd-4c44-c58f-90b67eb88d45"
      },
      "execution_count": null,
      "outputs": [
        {
          "output_type": "stream",
          "name": "stdout",
          "text": [
            "Enter two numbers separated by space: 100 50\n",
            "Addition: 150\n",
            "Subtraction: 50\n"
          ]
        }
      ]
    },
    {
      "cell_type": "code",
      "source": [
        "# This is OOP way we can do it\n",
        "class Calculator:\n",
        "  def __init__(self, a, b):\n",
        "    self.a = a\n",
        "    self.b = b\n",
        "\n",
        "  def perform_operations(self):\n",
        "    addition = self.a + self.b\n",
        "    subtraction = self.a - self.b\n",
        "    return addition, subtraction\n",
        "\n",
        "  # Taking input from the user\n",
        "  num1, num2 = map(int, input(\"Enter two numbers separated by space: \").split())\n",
        "\n",
        "# Creating an instance of the Calculator class or calling the class\n",
        "calculator = Calculator(num1, num2)\n",
        "# Calling the method\n",
        "add, sub = calculator.perform_operations()\n",
        "\n",
        "# Printing the results\n",
        "print(\"Addition:\", add)\n",
        "print(\"Subtraction:\", sub)"
      ],
      "metadata": {
        "colab": {
          "base_uri": "https://localhost:8080/"
        },
        "id": "urUH39dI4dal",
        "outputId": "70e9c1a0-940c-4cc5-a1d0-a1c71be63199"
      },
      "execution_count": null,
      "outputs": [
        {
          "output_type": "stream",
          "name": "stdout",
          "text": [
            "Enter two numbers separated by space: 100 50\n",
            "Addition: 150\n",
            "Subtraction: 50\n"
          ]
        }
      ]
    },
    {
      "cell_type": "code",
      "source": [
        "# Generate a Python list of all the even numbers between 2 to 20\n",
        "# Output: 2,4,6,8,10,12,14,16,18,20"
      ],
      "metadata": {
        "id": "l458N0-T6pMB"
      },
      "execution_count": null,
      "outputs": []
    },
    {
      "cell_type": "code",
      "source": [
        "# Normal way\n",
        "for i in range(2,21):\n",
        "  if i % 2 == 0:\n",
        "    print(i, end=\",\") # Updated 22/03/24"
      ],
      "metadata": {
        "colab": {
          "base_uri": "https://localhost:8080/"
        },
        "id": "GdwxPhpX7R86",
        "outputId": "e491ee95-f158-4c24-bcb8-326d43727aaf"
      },
      "execution_count": null,
      "outputs": [
        {
          "output_type": "stream",
          "name": "stdout",
          "text": [
            "2,4,6,8,10,12,14,16,18,20,"
          ]
        }
      ]
    },
    {
      "cell_type": "code",
      "source": [
        "# Easy way\n",
        "# Using list comprehension to generate even numbers between 2 and 20\n",
        "even_numbers = [num for num in range(2, 21) if num % 2 == 0]\n",
        "\n",
        "# Printing the result\n",
        "print(','.join(map(str, even_numbers)))"
      ],
      "metadata": {
        "colab": {
          "base_uri": "https://localhost:8080/"
        },
        "id": "ZQLD-tyiDJaq",
        "outputId": "89d45b84-2b20-4290-faad-67e940ef2228"
      },
      "execution_count": null,
      "outputs": [
        {
          "output_type": "stream",
          "name": "stdout",
          "text": [
            "2,4,6,8,10,12,14,16,18,20\n"
          ]
        }
      ]
    },
    {
      "cell_type": "code",
      "source": [
        "# Mideum Way using Function\n",
        "def even_number():\n",
        "  return [num for num in range(2,21) if num % 2 == 0]\n",
        "\n",
        "result = even_number()\n",
        "print(result)"
      ],
      "metadata": {
        "colab": {
          "base_uri": "https://localhost:8080/"
        },
        "id": "j5q3-1lP-Fyj",
        "outputId": "aa63d2c0-9d64-41d9-d50c-cd7c410298d9"
      },
      "execution_count": null,
      "outputs": [
        {
          "output_type": "stream",
          "name": "stdout",
          "text": [
            "[2, 4, 6, 8, 10, 12, 14, 16, 18, 20]\n"
          ]
        }
      ]
    },
    {
      "cell_type": "code",
      "source": [
        "# OOP Way\n",
        "class EvenNumber:\n",
        "  def __init__(self, start, end):\n",
        "    self.start = start\n",
        "    self.end = end\n",
        "\n",
        "  def generate_even_numbers(self):\n",
        "    even_number = [num for num in range(self.start, self.end + 1) if num % 2 == 0]\n",
        "    return even_number\n",
        "\n",
        "# Creating an instance of the EvenNumber class\n",
        "generator = EvenNumber(2,21)\n",
        "\n",
        "# Calling the method to generate even numbers\n",
        "even_numbers = generator.generate_even_numbers()\n",
        "\n",
        "# Printing the result\n",
        "print(\", \".join(map(str, even_numbers)))\n"
      ],
      "metadata": {
        "colab": {
          "base_uri": "https://localhost:8080/"
        },
        "id": "ipIYE0QCC5dQ",
        "outputId": "8579c353-74dd-482e-b11f-e55af6f5107f"
      },
      "execution_count": null,
      "outputs": [
        {
          "output_type": "stream",
          "name": "stdout",
          "text": [
            "2, 4, 6, 8, 10, 12, 14, 16, 18, 20\n"
          ]
        }
      ]
    },
    {
      "cell_type": "code",
      "source": [
        "# Find the largest item from the given three numbers using a function.\n",
        "\n",
        "# Input: 40,37,53\n",
        "# Output: 53"
      ],
      "metadata": {
        "id": "eqodlhokFqvN"
      },
      "execution_count": null,
      "outputs": []
    },
    {
      "cell_type": "code",
      "source": [
        "# Normal Way\n",
        "numbers = [40,37,53]\n",
        "print(max(numbers))"
      ],
      "metadata": {
        "colab": {
          "base_uri": "https://localhost:8080/"
        },
        "id": "JtIqs-O1INpF",
        "outputId": "277510b7-4ef9-4403-92f0-03f87055e911"
      },
      "execution_count": null,
      "outputs": [
        {
          "output_type": "stream",
          "name": "stdout",
          "text": [
            "53\n"
          ]
        }
      ]
    },
    {
      "cell_type": "code",
      "source": [
        "# Medium Way using function\n",
        "def max_numbers():\n",
        "  numbers = [40,37,53]\n",
        "  return numbers\n",
        "\n",
        "# Calling Method\n",
        "max_number = max_numbers()\n",
        "\n",
        "print(max(max_number))"
      ],
      "metadata": {
        "colab": {
          "base_uri": "https://localhost:8080/"
        },
        "id": "5XefrOiyJGPW",
        "outputId": "3dd10662-c7b5-4003-9954-17114e46c99a"
      },
      "execution_count": null,
      "outputs": [
        {
          "output_type": "stream",
          "name": "stdout",
          "text": [
            "53\n"
          ]
        }
      ]
    },
    {
      "cell_type": "markdown",
      "source": [
        "# Assignment: 03\n",
        "Last Date: 21-03-2024</br>\n",
        "Please solve these problems and share the notebook with me.</br>\n",
        "\n",
        "1. Use a loop to display elements from a given list present at odd index positions.</br>\n",
        "\n",
        "Input: [10, 20, 30, 40, 50, 60, 70, 80, 90, 100]</br>\n",
        "Output: 20 40 60 80 100</br>\n",
        "\n",
        "2. Calculate the cube of all numbers from 1 to a given number.</br>\n",
        "\n",
        "Input: input number = 6</br>\n",
        "\n",
        "Output: </br>\n",
        "Current Number is : 1  and the cube is 1</br>\n",
        "Current Number is : 2  and the cube is 8</br>\n",
        "Current Number is : 3  and the cube is 27</br>\n",
        "Current Number is : 4  and the cube is 64</br>\n",
        "Current Number is : 5  and the cube is 125</br>\n",
        "Current Number is : 6  and the cube is 216</br>\n",
        "\n",
        "3. Write a program to print the following start pattern using the for loop</br>\n",
        "</br>*\n",
        "</br>* *\n",
        "</br>* * *\n",
        "</br>* * * *\n",
        "</br>* * * * *\n",
        "</br>* * * *\n",
        "</br>* * *\n",
        "</br>* *\n",
        "</br>*\n",
        "\n",
        "4. Display numbers from -10 to -1 using for loop</br>\n",
        "\n",
        "Output:</br>\n",
        "-10</br>\n",
        "-9</br>\n",
        "-8</br>\n",
        "-7</br>\n",
        "-6</br>\n",
        "-5</br>\n",
        "-4</br>\n",
        "-3</br>\n",
        "-2</br>\n",
        "-1"
      ],
      "metadata": {
        "id": "RX2ii8L-NQw3"
      }
    },
    {
      "cell_type": "code",
      "source": [
        "# Use a loop to display elements from a given list present at odd index positions.\n",
        "# Input: [10, 20, 30, 40, 50, 60, 70, 80, 90, 100]\n",
        "# Output: 20 40 60 80 100"
      ],
      "metadata": {
        "id": "_q8pp0VcL3FV"
      },
      "execution_count": null,
      "outputs": []
    },
    {
      "cell_type": "code",
      "source": [
        "# Easy Way\n",
        "# Define the input list\n",
        "input_list = [10, 20, 30, 40, 50, 60, 70, 80, 90, 100]\n",
        "\n",
        "# Loop through the indices of the list and print elements at odd indices\n",
        "for i in range(1, len(input_list), 2): # here 2 is step size\n",
        "    print(input_list[i], end=\" \")\n",
        "\n"
      ],
      "metadata": {
        "colab": {
          "base_uri": "https://localhost:8080/"
        },
        "id": "g27_C7BNOtWI",
        "outputId": "73523f9a-b9cd-4c97-873f-2f7d2e3c5cf9"
      },
      "execution_count": null,
      "outputs": [
        {
          "output_type": "stream",
          "name": "stdout",
          "text": [
            "20 40 60 80 100 "
          ]
        }
      ]
    },
    {
      "cell_type": "code",
      "source": [
        "# OOP Way\n",
        "class OddIndexElements:\n",
        "    def __init__(self, input_list):\n",
        "        self.input_list = input_list\n",
        "\n",
        "    def display_odd_index_elements(self):\n",
        "        for i in range(1, len(self.input_list), 2): # 2 is step size here\n",
        "            print(self.input_list[i], end=' ')\n",
        "\n",
        "\n",
        "input_list = [10, 20, 30, 40, 50, 60, 70, 80, 90, 100]\n",
        "odd_index_elements = OddIndexElements(input_list)\n",
        "odd_index_elements.display_odd_index_elements()"
      ],
      "metadata": {
        "id": "LIed7Y4DRUMz",
        "colab": {
          "base_uri": "https://localhost:8080/"
        },
        "outputId": "390d28a4-f3d8-4ff5-efc8-42b9551e41c3"
      },
      "execution_count": null,
      "outputs": [
        {
          "output_type": "stream",
          "name": "stdout",
          "text": [
            "20 40 60 80 100 "
          ]
        }
      ]
    },
    {
      "cell_type": "code",
      "source": [
        "# Calculate the cube of all numbers from 1 to a given number.\n",
        "# Input: input number = 6\n",
        "\n",
        "# Output:\n",
        "# Current Number is : 1 and the cube is 1\n",
        "# Current Number is : 2 and the cube is 8\n",
        "# Current Number is : 3 and the cube is 27\n",
        "# Current Number is : 4 and the cube is 64\n",
        "# Current Number is : 5 and the cube is 125\n",
        "# Current Number is : 6 and the cube is 216"
      ],
      "metadata": {
        "id": "ub4S7m_SQrZi"
      },
      "execution_count": null,
      "outputs": []
    },
    {
      "cell_type": "code",
      "source": [
        "# Normal way\n",
        "def calculate_cube(number):\n",
        "  for i in range (1, number + 1):\n",
        "    cube = i ** 3\n",
        "    print(f\"Current Number is: {i} and the cube is {cube}\")\n",
        "calculate_cube(6)"
      ],
      "metadata": {
        "colab": {
          "base_uri": "https://localhost:8080/"
        },
        "id": "9tiNrsZ2jgAG",
        "outputId": "2f63ff4a-82a8-4bef-ec3a-d193b94453c0"
      },
      "execution_count": null,
      "outputs": [
        {
          "output_type": "stream",
          "name": "stdout",
          "text": [
            "Current Number is: 1 and the cube is 1\n",
            "Current Number is: 2 and the cube is 8\n",
            "Current Number is: 3 and the cube is 27\n",
            "Current Number is: 4 and the cube is 64\n",
            "Current Number is: 5 and the cube is 125\n",
            "Current Number is: 6 and the cube is 216\n"
          ]
        }
      ]
    },
    {
      "cell_type": "code",
      "source": [
        "# OOP Way\n",
        "class Cube:\n",
        "  def __init__(self, number):\n",
        "    self.number = number\n",
        "\n",
        "  def calculate_cube(self):\n",
        "    for i in range (1, self.number + 1):\n",
        "      cube = i ** 3\n",
        "      print(f\"Current Number is: {i} and the cube is {cube}\")\n",
        "\n",
        "cube = Cube(6)\n",
        "cube.calculate_cube()"
      ],
      "metadata": {
        "colab": {
          "base_uri": "https://localhost:8080/"
        },
        "id": "Ni6F8z2lxudp",
        "outputId": "1b6644fe-451b-4952-f3c3-2952aa61a4c4"
      },
      "execution_count": null,
      "outputs": [
        {
          "output_type": "stream",
          "name": "stdout",
          "text": [
            "Current Number is: 1 and the cube is 1\n",
            "Current Number is: 2 and the cube is 8\n",
            "Current Number is: 3 and the cube is 27\n",
            "Current Number is: 4 and the cube is 64\n",
            "Current Number is: 5 and the cube is 125\n",
            "Current Number is: 6 and the cube is 216\n"
          ]
        }
      ]
    },
    {
      "cell_type": "code",
      "source": [
        "# Write a program to print the following start pattern using the for loop\n",
        "\n",
        "# *\n",
        "# * *\n",
        "# * * *\n",
        "# * * * *\n",
        "# * * * * *\n",
        "# * * * *\n",
        "# * * *\n",
        "# * *\n",
        "# *"
      ],
      "metadata": {
        "id": "aibpMV6lywHP"
      },
      "execution_count": null,
      "outputs": []
    },
    {
      "cell_type": "code",
      "source": [
        "def print_star_pattern(rows):\n",
        "    # Upper half of the pattern\n",
        "    for i in range(1, rows + 1):\n",
        "        print('* ' * i)\n",
        "\n",
        "    # Lower half of the pattern\n",
        "    for i in range(rows - 1, 0, -1):\n",
        "        print('* ' * i)\n",
        "\n",
        "print_star_pattern(5)"
      ],
      "metadata": {
        "colab": {
          "base_uri": "https://localhost:8080/"
        },
        "id": "-zNuZIwHzeeR",
        "outputId": "692f8f2d-963f-4920-d929-40442450195d"
      },
      "execution_count": null,
      "outputs": [
        {
          "output_type": "stream",
          "name": "stdout",
          "text": [
            "* \n",
            "* * \n",
            "* * * \n",
            "* * * * \n",
            "* * * * * \n",
            "* * * * \n",
            "* * * \n",
            "* * \n",
            "* \n"
          ]
        }
      ]
    },
    {
      "cell_type": "code",
      "source": [
        "# OOP Way\n",
        "class Star:\n",
        "  def __init__(self, rows):\n",
        "    self.rows = rows\n",
        "\n",
        "  def print_star_pattern(self):\n",
        "    # Upper half of the pattern\n",
        "    for i in range(1, self.rows + 1):\n",
        "        print('^ ' * i)\n",
        "\n",
        "    # Lower half of the pattern\n",
        "    for i in range(self.rows - 1, 0, -1):\n",
        "        print('* ' * i)\n",
        "\n",
        "star = Star(5) # you can check given by any number\n",
        "star.print_star_pattern()"
      ],
      "metadata": {
        "colab": {
          "base_uri": "https://localhost:8080/"
        },
        "id": "zxCNhyGP0LoB",
        "outputId": "4bcf690f-1722-4118-efba-df844af782fb"
      },
      "execution_count": null,
      "outputs": [
        {
          "output_type": "stream",
          "name": "stdout",
          "text": [
            "^ \n",
            "^ ^ \n",
            "^ ^ ^ \n",
            "^ ^ ^ ^ \n",
            "^ ^ ^ ^ ^ \n",
            "* * * * \n",
            "* * * \n",
            "* * \n",
            "* \n"
          ]
        }
      ]
    },
    {
      "cell_type": "code",
      "source": [
        "# Display numbers from -10 to -1 using for loop\n",
        "\n",
        "# Output:\n",
        "# -10\n",
        "# -9\n",
        "# -8\n",
        "# -7\n",
        "# -6\n",
        "# -5\n",
        "# -4\n",
        "# -3\n",
        "# -2\n",
        "# -1"
      ],
      "metadata": {
        "id": "_2kuSueb3PuV"
      },
      "execution_count": null,
      "outputs": []
    },
    {
      "cell_type": "code",
      "source": [
        "for i in range(-10, 0):\n",
        "    print(i, end=\", \")"
      ],
      "metadata": {
        "colab": {
          "base_uri": "https://localhost:8080/"
        },
        "id": "tzB9kbGa4ZRm",
        "outputId": "727743ef-9f99-4553-c5eb-ab0c4173023c"
      },
      "execution_count": null,
      "outputs": [
        {
          "output_type": "stream",
          "name": "stdout",
          "text": [
            "-10, -9, -8, -7, -6, -5, -4, -3, -2, -1, "
          ]
        }
      ]
    },
    {
      "cell_type": "markdown",
      "source": [
        "# Assignment: 04\n",
        "Deadline: 28 - 03 - 2024. Please do it within the deadline.\n",
        "1. Online Library Management System.</br>\n",
        "The task is to develop an “Online Library Management System”. For this, you need to create using the following features:\n",
        "\n",
        "Display the available books </br>\n",
        "Lend a book to a user </br>\n",
        "Add a book to the library</br>\n",
        "Return the book to the library.</br>\n",
        "\n",
        "2. Create the Quiz Game with Python\n",
        "\n",
        "You can use your brain to build the question and answer. Need to be very funny and you will present it to everyone with the details.\n",
        "\n",
        "- Lets Play\n",
        "\n",
        "Caution: Don't copy-paste from internet or other sources."
      ],
      "metadata": {
        "id": "XxiMYELc5R0y"
      }
    },
    {
      "cell_type": "code",
      "source": [
        "# 1. Online Library Management System.</br>\n",
        "# The task is to develop an “Online Library Management System”. For this, you need to create using the following features:\n",
        "\n",
        "# Display the available books </br>\n",
        "# Lend a book to a user </br>\n",
        "# Add a book to the library</br>\n",
        "# Return the book to the library.</br>"
      ],
      "metadata": {
        "id": "AISytEqZ4iHt"
      },
      "execution_count": null,
      "outputs": []
    },
    {
      "cell_type": "code",
      "source": [
        "import json\n",
        "import logging\n",
        "\n",
        "logging.basicConfig(filename='library.log', level=logging.INFO, format='%(asctime)s - %(message)s')\n",
        "\n",
        "class Library:\n",
        "    def __init__(self):\n",
        "        self.books = [] #storage\n",
        "\n",
        "    # Our Libraries Json File will be Load From here\n",
        "    def load_books(self):\n",
        "        try:\n",
        "            with open('books.json', 'r') as file:\n",
        "                self.books = json.load(file)\n",
        "        except FileNotFoundError:\n",
        "            logging.warning('No book data found.')\n",
        "            self.books = []\n",
        "\n",
        "    # Our Libraries Json File will be Save From here\n",
        "    def save_books(self):\n",
        "        with open('books.json', 'w') as file:\n",
        "            json.dump(self.books, file, indent=4)\n",
        "\n",
        "    # Our first step is add item or book let's create function for it\n",
        "    # \"\"\" add_book Function Start \"\"\"\n",
        "    def add_book(self):\n",
        "        while True:\n",
        "            title = input(\"Enter your book title: \")\n",
        "            author = input(\"Enter your book author: \")\n",
        "            book_id = input(\"Enter your book ID: \")\n",
        "            published_year = input(\"Enter the book published year: \")\n",
        "            book = {'title': title, 'author': author, 'id': book_id, 'published_year': published_year}\n",
        "\n",
        "            self.books.append(book)\n",
        "            logging.info(f\"Added book: {book['title']} by {book['author']}\")\n",
        "            # if you want to add more at a time\n",
        "            more = input(\"Do you want to add more books? If yes, then press '1' or '7' to exit: \")\n",
        "            if more == '1':\n",
        "                continue\n",
        "            elif more == '7':\n",
        "                self.save_books()\n",
        "                break\n",
        "            else:\n",
        "                print(\"Invalid input. Please enter '1' to add more books or '7' to exit.\")\n",
        "    # \"\"\"add_book Function End \"\"\"\n",
        "\n",
        "    # Our second step is Update item or book if there is any mistake in exiting book or item\n",
        "    # \"\"\" Update_book Function Start \"\"\"\n",
        "    def update_book(self):\n",
        "        book_id = input(\"Enter your book ID which you want to update: \")\n",
        "        found = False\n",
        "        for book in self.books:\n",
        "            if book['id'] == book_id:\n",
        "                try:\n",
        "                    title = input(\"Enter your new book title: \")\n",
        "                    author = input(\"Enter your new book author: \")\n",
        "                    new_id = input(\"Enter your new book ID: \")\n",
        "                    published_year = input(\"Enter the new book published year: \")\n",
        "                    book.update({'title': title, 'author': author, 'id': new_id, 'published_year': published_year})\n",
        "                    logging.info(f\"Updated book: {book['title']} by {book['author']}\")\n",
        "                    found = True\n",
        "                except Exception as e:\n",
        "                    logging.error(f\"Error updating book: {e}\")\n",
        "                break\n",
        "        if not found:\n",
        "            logging.error(f\"Book with ID {book_id} are not found.\")\n",
        "        self.save_books()\n",
        "    # \"\"\"update_book Function End \"\"\"\n",
        "\n",
        "    # Our third step is delete item or book let's create function for it\n",
        "    # \"\"\" delete_book Function Start \"\"\"\n",
        "    def delete_book(self):\n",
        "        book_id = input(\"Enter your book ID which you want to delete: \")\n",
        "        found = False\n",
        "        for book in self.books:\n",
        "            if book['id'] == book_id:\n",
        "                try:\n",
        "                    self.books.remove(book)\n",
        "                    logging.info(f\"Deleted book: {book['title']} by {book['author']}\")\n",
        "                    found = True\n",
        "                except Exception as e:\n",
        "                    logging.error(f\"Error deleting book: {e}\")\n",
        "                break\n",
        "        if not found:\n",
        "            logging.error(f\"Book with ID {book_id} not found.\")\n",
        "        self.save_books()\n",
        "    # \"\"\" delete_book Function End \"\"\"\n",
        "\n",
        "    # Our fourth step is display item or book let's create function for it\n",
        "    # \"\"\" display_book Function Start \"\"\"\n",
        "    def display_books(self):\n",
        "        if book not in self.books:\n",
        "            logging.warning(\"books are not available.\")\n",
        "        else:\n",
        "            print(\"Available books in the Libraries:\")\n",
        "            for i, book in enumerate(self.books):\n",
        "                print(f\"{i}: {book['title']} by {book['author']}, ID: {book['id']}, Published Year: {book['published_year']}\")\n",
        "    # \"\"\" display_book Function Start \"\"\"\n",
        "\n",
        "    # Our fifth step is Lend item or book let's create function for it\n",
        "    # \"\"\" lend_book Function Start \"\"\"\n",
        "    def lend_book(self):\n",
        "        book_id = input(\"Enter book ID which you want to lend: \")\n",
        "        found = False\n",
        "        for book in self.books:\n",
        "            if book['id'] == book_id:\n",
        "                try:\n",
        "                    user = input(\"Enter user name: \")\n",
        "                    logging.info(f\"Lent book: {book['title']} by {book['author']} to {user}\")\n",
        "                    self.books.remove(book)\n",
        "                    found = True\n",
        "                except Exception as e:\n",
        "                    logging.error(f\"Error lending book: {e}\")\n",
        "                break\n",
        "        if not found:\n",
        "            logging.error(f\"Book with ID {book_id} not found.\")\n",
        "        self.save_books()\n",
        "    # \"\"\" lend_book Function End \"\"\"\n",
        "\n",
        "    # Our sixth step is Return item or book let's create function for it\n",
        "    # \"\"\" return_book Function Start \"\"\"\n",
        "    def return_book(self):\n",
        "        title = input(\"Enter the book title to return: \")\n",
        "        author = input(\"Enter the book author to return: \")\n",
        "        book_id = input(\"Enter the book ID to return: \")\n",
        "        published_year = input(\"Enter published year of the book: \")\n",
        "        book = {'title': title, 'author': author, 'id': book_id, 'published_year': published_year}\n",
        "        self.books.append(book)\n",
        "        logging.info(f\"Returned book: {book['title']} by {book['author']}\")\n",
        "        self.save_books()\n",
        "    # \"\"\" return_book Function End \"\"\"\n",
        "\n",
        "# Class and all def will be call from here\n",
        "def main():\n",
        "    library = Library()\n",
        "    library.load_books()\n",
        "\n",
        "    while True:\n",
        "        print(\"\\nLibrary Management System\")\n",
        "        print(\"1. Add Book\")\n",
        "        print(\"2. Update Book\")\n",
        "        print(\"3. Delete Book\")\n",
        "        print(\"4. Display Available Books\")\n",
        "        print(\"5. Lend Book\")\n",
        "        print(\"6. Return Book\")\n",
        "        print(\"7. Exit\")\n",
        "        choice = input(\"Enter your choice: \")\n",
        "\n",
        "        if choice == '1':\n",
        "            library.add_book()\n",
        "        elif choice == '2':\n",
        "            library.update_book()\n",
        "        elif choice == '3':\n",
        "            library.delete_book()\n",
        "        elif choice == '4':\n",
        "            library.display_books()\n",
        "        elif choice == '5':\n",
        "            library.lend_book()\n",
        "        elif choice == '6':\n",
        "            library.return_book()\n",
        "        elif choice == '7':\n",
        "            break\n",
        "        else:\n",
        "            print(\"Invalid choice. Please enter a number between 1 and 7.\")\n",
        "\n",
        "\n",
        "if __name__ == \"__main__\":\n",
        "    main()\n"
      ],
      "metadata": {
        "colab": {
          "base_uri": "https://localhost:8080/"
        },
        "id": "iTK6E4fJ7Wtk",
        "outputId": "e1419be5-f48c-42aa-b396-b96cc852254a"
      },
      "execution_count": null,
      "outputs": [
        {
          "output_type": "stream",
          "name": "stderr",
          "text": [
            "WARNING:root:No book data found.\n"
          ]
        },
        {
          "name": "stdout",
          "output_type": "stream",
          "text": [
            "\n",
            "Library Management System\n",
            "1. Add Book\n",
            "2. Update Book\n",
            "3. Delete Book\n",
            "4. Display Available Books\n",
            "5. Lend Book\n",
            "6. Return Book\n",
            "7. Exit\n",
            "Enter your choice: 1\n",
            "Enter your book title: Book-1\n",
            "Enter your book author: Sheikh Rasel Ahmed\n",
            "Enter your book ID: 01\n",
            "Enter the book published year: 1995\n",
            "Do you want to add more books? If yes, then press '1' or '7' to exit: 7\n",
            "\n",
            "Library Management System\n",
            "1. Add Book\n",
            "2. Update Book\n",
            "3. Delete Book\n",
            "4. Display Available Books\n",
            "5. Lend Book\n",
            "6. Return Book\n",
            "7. Exit\n",
            "Enter your choice: 7\n"
          ]
        }
      ]
    },
    {
      "cell_type": "code",
      "source": [
        "# 2. Create the Quiz Game with Python\n",
        "# You can use your brain to build the question and answer. Need to be very funny and you will present it to everyone with the details.\n",
        "# - Lets Play\n",
        "# Caution: Don't copy-paste from internet or other sources."
      ],
      "metadata": {
        "id": "Ks2wayny5OSe"
      },
      "execution_count": null,
      "outputs": []
    },
    {
      "cell_type": "markdown",
      "source": [
        "# Sheikh Rasel Ahmed\n",
        "- https://github.com/Rasel1435\n",
        "- https://www.linkedin.com/in/shekhnirob1"
      ],
      "metadata": {
        "id": "OSBhkO7l5Z9C"
      }
    },
    {
      "cell_type": "code",
      "source": [],
      "metadata": {
        "id": "SuWPE5Ux5a8h"
      },
      "execution_count": null,
      "outputs": []
    }
  ]
}